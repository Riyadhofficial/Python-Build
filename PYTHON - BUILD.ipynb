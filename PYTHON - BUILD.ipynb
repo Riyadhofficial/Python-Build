{
 "cells": [
  {
   "cell_type": "code",
   "execution_count": null,
   "metadata": {},
   "outputs": [],
   "source": [
    "#import packages\n",
    "import pandas as pd\n",
    "from pandas import datetime\n",
    "import numpy as np\n",
    "\n",
    "import matplotlib\n",
    "import matplotlib.pyplot as plt\n",
    "%matplotlib inline\n",
    "plt.style.use('fivethirtyeight')\n",
    "\n",
    "import seaborn as sns\n",
    "\n",
    "from matplotlib.pylab import rcParams\n",
    "rcParams['figure.figsize'] = 10,10\n",
    "\n",
    "path = 'E:/GitHub_Project_upload/done/python-test/'\n",
    "\n",
    "INFY = pd.read_csv(path + 'infy_stock.csv', parse_dates=['Date'])\n",
    "\n",
    "NIFTY = pd.read_csv(path + 'nifty_it_index.csv', parse_dates=['Date'])\n",
    "\n",
    "\n",
    "stocks = [INFY, NIFTY]\n",
    "\n",
    "\n",
    "INFY.name = 'INFY'\n",
    "NIFTY.name = 'NIFTY_IT'\n",
    "INFY[\"Date\"] = pd.to_datetime(INFY[\"Date\"])\n",
    "NIFTY[\"Date\"] = pd.to_datetime(NIFTY[\"Date\"])\n",
    "INFY.head(10)\n",
    "NIFTY.head(10)\n",
    "def features_build(df):\n",
    "    df['Date'] = pd.to_datetime(df['Date'])\n",
    "    df['Year'] = df['Date'].dt.year\n",
    "    df['Month'] = df.Date.dt.month\n",
    "    df['Day'] = df.Date.dt.day\n",
    "    df['WeekOfYear'] = df.Date.dt.weekofyear\n",
    "    \n",
    "    \n",
    "    \n",
    "for i in range(len(stocks)):\n",
    "    features_build(stocks[i])"
   ]
  },
  {
   "cell_type": "code",
   "execution_count": null,
   "metadata": {},
   "outputs": [],
   "source": [
    "#PART 1\n",
    "def moving_average(series, n):\n",
    "    \"\"\"\n",
    "        Calculate avg of last n obs\n",
    "        \n",
    "        n -  window\n",
    "    \"\"\"\n",
    "    return np.average(series[-n:])\n",
    "\n",
    "weeks = [4, 16, 28, 40, 52]\n",
    "def indexing(stock):\n",
    "    stock.index = stock['Date']\n",
    "    return stock\n",
    "indexing(INFY)\n",
    "indexing(NIFTY)\n",
    "def plot_time_series(stock, weeks = [4, 16, 28, 40, 52]):\n",
    "    \n",
    "    dummy = pd.DataFrame()\n",
    "    dummy['Close'] = stock['Close'].resample('W').mean() \n",
    "     \n",
    "    for i in range(len(weeks)):\n",
    "        m_a = dummy['Close'].rolling(weeks[i]).mean() \n",
    "        dummy[\" Mov.AVG for \" + str(weeks[i])+ \" Weeks\"] = m_a\n",
    "        print('Calculated Moving Avg: for {0} weeks: \\n\\n {1}' .format(weeks[i], dummy['Close']))\n",
    "    dummy.plot(title=\"Moving Avg for {} \\n\\n\" .format(stock.name))\n",
    "    "
   ]
  },
  {
   "cell_type": "code",
   "execution_count": null,
   "metadata": {},
   "outputs": [],
   "source": []
  },
  {
   "cell_type": "code",
   "execution_count": null,
   "metadata": {},
   "outputs": [],
   "source": [
    "plot_time_series(INFY)\n"
   ]
  },
  {
   "cell_type": "code",
   "execution_count": null,
   "metadata": {},
   "outputs": [],
   "source": [
    "plot_time_series(NIFTY)\n"
   ]
  },
  {
   "cell_type": "code",
   "execution_count": null,
   "metadata": {},
   "outputs": [],
   "source": [
    "INFY = INFY.asfreq('D', method ='pad')\n",
    "NIFTY = NIFTY.asfreq('D', method ='pad')\n",
    "INFY.name = 'INFY'\n",
    "NIFTY.name = 'NIFTY_IT'"
   ]
  },
  {
   "cell_type": "code",
   "execution_count": null,
   "metadata": {},
   "outputs": [],
   "source": [
    "def plot_roll_win(stock, win = [10, 75]):\n",
    "    \n",
    "    dummy = pd.DataFrame()\n",
    "    \n",
    "    dummy['Close'] = stock['Close']\n",
    "     \n",
    "    for i in range(len(win)):\n",
    "        m_a = dummy['Close'].rolling(win[i]).mean() # M.A using predefined function\n",
    "        dummy[\" Mov.AVG for \" + str(win[i])+ \" Roll Window\"] = m_a\n",
    "        print('Calculated Moving Avg: for {0} weeks: \\n\\n {1}' .format(win[i], dummy['Close']))\n",
    "    dummy.plot(title=\"Moving Avg for {} \\n\\n\" .format(stock.name))"
   ]
  },
  {
   "cell_type": "code",
   "execution_count": null,
   "metadata": {},
   "outputs": [],
   "source": [
    "plot_roll_win(INFY)\n"
   ]
  },
  {
   "cell_type": "code",
   "execution_count": null,
   "metadata": {},
   "outputs": [],
   "source": [
    "plot_roll_win(NIFTY)\n"
   ]
  },
  {
   "cell_type": "code",
   "execution_count": null,
   "metadata": {},
   "outputs": [],
   "source": [
    "def volume_shocks(stock):\n",
    "    \"\"\"\n",
    "    'Volume' - Vol_t\n",
    "    'Volume next day - vol_t+1\n",
    "    \n",
    "    \"\"\"\n",
    "    stock[\"vol_t+1\"] = stock.Volume.shift(1)  \n",
    "    \n",
    "    stock[\"volume_shock\"] = ((abs(stock[\"vol_t+1\"] - stock[\"Volume\"])/stock[\"Volume\"]*100)  > 10).astype(int)\n",
    "    \n",
    "    return stock"
   ]
  },
  {
   "cell_type": "code",
   "execution_count": null,
   "metadata": {},
   "outputs": [],
   "source": [
    "volume_shocks(INFY)\n",
    "volume_shocks(NIFTY)"
   ]
  },
  {
   "cell_type": "code",
   "execution_count": null,
   "metadata": {},
   "outputs": [],
   "source": [
    "def direction_fun(stock):\n",
    "    \n",
    "    if stock[\"volume_shock\"] == 0:\n",
    "        pass\n",
    "    else:\n",
    "        if (stock[\"vol_t+1\"] - stock[\"Volume\"]) < 0:\n",
    "            return 0\n",
    "        else:\n",
    "            return 1"
   ]
  },
  {
   "cell_type": "code",
   "execution_count": null,
   "metadata": {},
   "outputs": [],
   "source": [
    "def vol_shock_direction(stock):\n",
    "    stock['VOL_SHOCK_DIR'] = 'Nan'\n",
    "    stock['VOL_SHOCK_DIR'] = stock.apply(direction_fun, axis=1)\n",
    "    return stock"
   ]
  },
  {
   "cell_type": "code",
   "execution_count": null,
   "metadata": {},
   "outputs": [],
   "source": [
    "vol_shock_direction(INFY)\n",
    "vol_shock_direction(NIFTY)"
   ]
  },
  {
   "cell_type": "code",
   "execution_count": null,
   "metadata": {},
   "outputs": [],
   "source": [
    "#PRICE SHOCKS\n",
    "def price_shocks(stock):\n",
    "    \"\"\"\n",
    "    'ClosePrice' - Close_t\n",
    "    'Close Price next day - vol_t+1\n",
    "    \n",
    "    \"\"\"\n",
    "    stock[\"price_t+1\"] = stock.Close.shift(1)  \n",
    "    \n",
    "    stock[\"price_shock\"] = (abs((stock[\"price_t+1\"] - stock[\"Close\"])/stock[\"Close\"]*100)  > 2).astype(int)\n",
    "    \n",
    "    stock[\"price_black_swan\"] = stock['price_shock'] \n",
    "    \n",
    "    return stock"
   ]
  },
  {
   "cell_type": "code",
   "execution_count": null,
   "metadata": {},
   "outputs": [],
   "source": [
    "price_shocks(INFY)\n",
    "price_shocks(NIFTY)"
   ]
  },
  {
   "cell_type": "code",
   "execution_count": null,
   "metadata": {},
   "outputs": [],
   "source": [
    "def direction_fun_price(stock):\n",
    "   \n",
    "    if stock[\"price_shock\"] == 0:\n",
    "        pass\n",
    "    else:\n",
    "        if (stock[\"price_t+1\"] - stock[\"Close\"]) < 0:\n",
    "            return 0\n",
    "        else:\n",
    "            return 1"
   ]
  },
  {
   "cell_type": "code",
   "execution_count": null,
   "metadata": {},
   "outputs": [],
   "source": [
    "def price_shock_direction(stock):\n",
    "    stock['PRICE_SHOCK_DIR'] = 'Nan'\n",
    "    stock['PRICE_SHOCK_DIR'] = stock.apply(direction_fun_price, axis=1)\n",
    "    return stock"
   ]
  },
  {
   "cell_type": "code",
   "execution_count": null,
   "metadata": {},
   "outputs": [],
   "source": [
    "vol_shock_direction(INFY)\n",
    "vol_shock_direction(NIFTY)"
   ]
  },
  {
   "cell_type": "code",
   "execution_count": null,
   "metadata": {},
   "outputs": [],
   "source": [
    "def price_shock_wo_vol_shock(stock):\n",
    "    \n",
    "    stock[\"not_vol_shock\"]  = (~(stock[\"volume_shock\"].astype(bool))).astype(int)\n",
    "    stock[\"price_shock_w/0_vol_shock\"] = stock[\"not_vol_shock\"] & stock[\"price_shock\"]\n",
    "    \n",
    "    return stock\n",
    "price_shock_wo_vol_shock(INFY)\n",
    "price_shock_wo_vol_shock(NIFTY)"
   ]
  },
  {
   "cell_type": "code",
   "execution_count": null,
   "metadata": {},
   "outputs": [],
   "source": [
    "#PART - 3 \n",
    "\n",
    "import bokeh\n",
    "from bokeh.plotting import figure, output_file, show\n",
    "from bokeh.io import show, output_notebook\n",
    "from bokeh.palettes import Blues9\n",
    "from bokeh.palettes import RdBu3\n",
    "from bokeh.models import ColumnDataSource, CategoricalColorMapper, ContinuousColorMapper\n",
    "from bokeh.palettes import Spectral11"
   ]
  },
  {
   "cell_type": "code",
   "execution_count": null,
   "metadata": {},
   "outputs": [],
   "source": [
    "output_notebook()\n"
   ]
  },
  {
   "cell_type": "code",
   "execution_count": null,
   "metadata": {},
   "outputs": [],
   "source": [
    "def bokeh_plot(stock):\n",
    "    data = dict(stock=stock['Close'], Date=stock.index)\n",
    "    \n",
    "    p = figure(plot_width=800, plot_height=250,  title = 'time series for {}' .format(stock.name), x_axis_type=\"datetime\")\n",
    "    p.line(stock.index, stock['Close'], color='blue', alpha=0.5)\n",
    "    \n",
    "    p.circle(stock.index, stock.Close*stock[\"price_shock_w/0_vol_shock\"], size=4, legend='price shock without vol shock')\n",
    "    show(p)"
   ]
  },
  {
   "cell_type": "code",
   "execution_count": null,
   "metadata": {},
   "outputs": [],
   "source": [
    "output_file(\"PYTHON-BUILD.html\")\n",
    "bokeh_plot(INFY)\n",
    "bokeh_plot(NIFTY)"
   ]
  },
  {
   "cell_type": "code",
   "execution_count": null,
   "metadata": {},
   "outputs": [],
   "source": [
    "rom statsmodels.tsa.stattools import acf, pacf\n",
    "\n",
    "def draw_pacf(stock):\n",
    "    \n",
    "    lags = 50\n",
    "\n",
    "    x = list(range(lags))\n",
    "\n",
    "    p = figure(plot_height=500, title=\"Partial Autocorrelation PLot {}\" .format(stock.name))\n",
    "\n",
    "    partial_autocorr = pacf(stock[\"Close\"], nlags=lags)\n",
    "    p.vbar(x=x, top=partial_autocorr, width=0.9)\n",
    "    show(p)"
   ]
  },
  {
   "cell_type": "code",
   "execution_count": null,
   "metadata": {},
   "outputs": [],
   "source": [
    "output_file(\"PYBUILD.html\")\n",
    "draw_pacf(INFY)\n",
    "draw_pacf(NIFTY)"
   ]
  }
 ],
 "metadata": {
  "kernelspec": {
   "display_name": "Python 3",
   "language": "python",
   "name": "python3"
  },
  "language_info": {
   "codemirror_mode": {
    "name": "ipython",
    "version": 3
   },
   "file_extension": ".py",
   "mimetype": "text/x-python",
   "name": "python",
   "nbconvert_exporter": "python",
   "pygments_lexer": "ipython3",
   "version": "3.7.0"
  }
 },
 "nbformat": 4,
 "nbformat_minor": 2
}
